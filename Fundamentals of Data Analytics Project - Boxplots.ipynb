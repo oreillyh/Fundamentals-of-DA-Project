{
 "cells": [
  {
   "cell_type": "markdown",
   "metadata": {},
   "source": [
    "# <font color=red>FUNDAMENTALS OF DATA ANALYTICS</font>\n",
    "# GMIT GRAD. DIP. DATA ANALYTICS\n",
    "#  <font color=red>PROJECT</font>\n",
    "# BOX PLOTS"
   ]
  },
  {
   "cell_type": "markdown",
   "metadata": {},
   "source": [
    "## INTRODUCTION"
   ]
  },
  {
   "cell_type": "markdown",
   "metadata": {},
   "source": [
    "[Ref: Applied Statistics and Probability for Engineers](Applied Statistics and Probability for Engineers, Montgomery, D.C.; Runger, G.C.; Wiley and Sons, New York)\n",
    "\n",
    "**The box plot is a means of graphically displaying the important feature of a dataset such as median, spread, asymmetry and outliers.**\n",
    "\n",
    "**The Box plot will display:**\n",
    "\n",
    "**In the Box Area:**\n",
    "    * The 25^th, the 50^th and the 75^th Quartile\n",
    "    * A line drawn through the box diagonally at the median i.e. the second quartile\n",
    "    * The min and max of the data\n",
    "    \n",
    "**Two lines extending out from the box at either end (whiskers)**\n",
    "    * The Lower whisker extends from the first quartile to the smallest data point within 1.5 interquartile ranges\n",
    "    * The Upper whisker is a line from third quartile to the largest data point 1.5 interquartile ranges from the third         quartile\n",
    "    * Data further out is plotted as individual points\n",
    "    * A data point beyond a whisker but less than three interquartile ranges from the box edge is called an **outlier**\n",
    "    * A point more than 3 interquartile ranges from the box edge is called an **extreme outlier**\n",
    "    * Different symbols such as open and closed circles may occasionally be used to represent outliers\n",
    "\n"
   ]
  },
  {
   "cell_type": "markdown",
   "metadata": {},
   "source": [
    "Image created in MS Visio from one in Applied Statistics and Probability for Engineers\n",
    "\n",
    "![Box Plot](BoxPlot.PNG.PNG)\n"
   ]
  },
  {
   "cell_type": "markdown",
   "metadata": {},
   "source": [
    "Box plots were first described by Tukey *et al* in his book - J. W. Tukey. Exploratory Data Analysis. Addison–Wesley, 1970. In 1978 in: *Variations of Box plots, Tukey et al, The American Statistician, vol32 (Feb 1978), 1, pp12-16* he describes box plots as a tool to enable exploratory data analysis. \n",
    "\n"
   ]
  },
  {
   "cell_type": "markdown",
   "metadata": {},
   "source": [
    "In their paper, \"Visual Presentation of Data by Means of Box Plots\", [ref](Visual Presentation of Data by Means of Box Plots, D. L. Massart , A J. Smeyers-verbeke , A X. Capron A , Karin Schlesier; LC•GC Europe 18(4) 215–218 (2005)) the authors discuss the use of boxplots as a useful means of interpreting *robust statistics*, i.e. those statistics which describe data with outilers better than those statistics based on the normal distribution. The authors explain how the use of the median as a descriptor and the interquartile range used in Box plots better describe the central tendency and dispersion of the data, respectively. They also explain how the whiskers are used to describe the range of the data.\n",
    "\n",
    "The authors use the example of a European Union funded study on wine which analyses up to 100 variables on wine composition over many samples. They discuss the initial univariate analysis (and visualisation) of the data using boxplots before the more complex PCA and multivariate techniques were employed.\n",
    "\n",
    "They describe how Boxplots enable rapid visualisation of\n",
    "* Outliers\n",
    "* Skewed distributions\n",
    "* Comparing series of results"
   ]
  },
  {
   "cell_type": "code",
   "execution_count": null,
   "metadata": {},
   "outputs": [],
   "source": []
  }
 ],
 "metadata": {
  "kernelspec": {
   "display_name": "Python 3",
   "language": "python",
   "name": "python3"
  },
  "language_info": {
   "codemirror_mode": {
    "name": "ipython",
    "version": 3
   },
   "file_extension": ".py",
   "mimetype": "text/x-python",
   "name": "python",
   "nbconvert_exporter": "python",
   "pygments_lexer": "ipython3",
   "version": "3.6.6"
  }
 },
 "nbformat": 4,
 "nbformat_minor": 2
}
