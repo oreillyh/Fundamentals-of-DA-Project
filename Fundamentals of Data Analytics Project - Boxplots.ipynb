{
 "cells": [
  {
   "cell_type": "markdown",
   "metadata": {},
   "source": [
    "# <font color=red>FUNDAMENTALS OF DATA ANALYTICS</font>\n",
    "# GMIT GRAD. DIP. DATA ANALYTICS\n",
    "#  <font color=red>PROJECT</font>\n",
    "# BOX PLOTS"
   ]
  },
  {
   "cell_type": "markdown",
   "metadata": {},
   "source": [
    "## INTRODUCTION"
   ]
  },
  {
   "cell_type": "markdown",
   "metadata": {},
   "source": [
    "[Ref: Applied Statistics and Probability for Engineers](Applied Statistics and Probability for Engineers, Montgomery, D.C.; Runger, G.C.; Wiley and Sons, New York)\n",
    "\n",
    "**The box plot is a means of graphically displaying the important feature of a dataset such as median, spread, asymmetry and outliers.**\n",
    "\n",
    "**The Box plot will display:**\n",
    "\n",
    "**In the Box Area:**\n",
    "    * The 25^th, the 50^th and the 75^th Quartile\n",
    "    * A line drawn through the box diagonally at the median i.e. the second quartile\n",
    "    * The min and max of the data\n",
    "    \n",
    "**Two lines extending out from the box at either end (whiskers)**\n",
    "    * The Lower whisker extends from the first quartile to the smallest data point within 1.5 interquartile ranges\n",
    "    * The Upper whisker is a line from third quartile to the largest data point 1.5 interquartile ranges from the third         quartile\n",
    "    * Data further out is plotted as individual points\n",
    "    * A data point beyond a whisker but less than three interquartile ranges from the box edge is called an **outlier**\n",
    "    * A point more than 3 interquartile ranges from the box edge is called an **extreme outlier**\n",
    "    * Different symbols such as open and closed circles may occasionally be used to represent outliers\n",
    "\n"
   ]
  },
  {
   "cell_type": "markdown",
   "metadata": {},
   "source": [
    "Image created in MS Visio\n",
    "\n",
    "![Box Plot](BoxPlot.PNG.PNG)\n"
   ]
  },
  {
   "cell_type": "markdown",
   "metadata": {},
   "source": [
    "Box plots were first described by Tukey *et al* in his book - J. W. Tukey. Exploratory Data Analysis. Addison–Wesley, 1970. In 1978 in: *Variations of Box plots, Tukey et al, The American Statistician, vol32 (Feb 1978), 1, pp12-16* he describes box plots as a tool to enable exploratory data analysis. "
   ]
  }
 ],
 "metadata": {
  "kernelspec": {
   "display_name": "Python 3",
   "language": "python",
   "name": "python3"
  },
  "language_info": {
   "codemirror_mode": {
    "name": "ipython",
    "version": 3
   },
   "file_extension": ".py",
   "mimetype": "text/x-python",
   "name": "python",
   "nbconvert_exporter": "python",
   "pygments_lexer": "ipython3",
   "version": "3.6.6"
  }
 },
 "nbformat": 4,
 "nbformat_minor": 2
}
