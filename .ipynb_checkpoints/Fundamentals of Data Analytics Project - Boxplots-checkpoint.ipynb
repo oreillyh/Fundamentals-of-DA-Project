{
 "cells": [
  {
   "cell_type": "markdown",
   "metadata": {},
   "source": [
    "# FUNDAMENTALS OF DATA ANALYTICS PROJECT\n",
    "---\n",
    "# GMIT GRAD. DIP. DATA ANALYTICS\n",
    "---\n",
    "# *BOX PLOTS*\n",
    "---"
   ]
  },
  {
   "cell_type": "markdown",
   "metadata": {},
   "source": [
    "## INTRODUCTION"
   ]
  },
  {
   "cell_type": "markdown",
   "metadata": {},
   "source": [
    "[Ref: Applied Statistics and Probability for Engineers](Applied Statistics and Probability for Engineers, Montgomery, D.C.; Runger, G.C.; Wiley and Sons, New York)\n",
    "\n",
    "**The box plot is a means of graphically displaying the important feature of a dataset such as median, spread, asymmetry and outliers.**\n",
    "\n",
    "**The Box plot will display:**\n",
    "\n",
    "**In the Box Area:**\n",
    "    * The 25^th, the 50^th and the 75^th Quartile\n",
    "    * A line drawn through the box diagonally at the median i.e. the second quartile\n",
    "    * The min and max of the data\n",
    "    \n",
    "**Two lines extending out from the box at either end (whiskers)**\n",
    "    * The Lower whisker extends from the first quartile to the smallest data point within 1.5 interquartile ranges\n",
    "    * The Upper whisker is a line from third quartile to the largest data point 1.5 interquartile ranges from the third         quartile\n",
    "    * Data further out is plotted as individual points\n",
    "    * A data point beyond a whisker but less than three interquartile ranges from the box edge is called an **outlier**\n",
    "    * A point more than 3 interquartile ranges from the box edge is called an **extreme outlier**\n",
    "    * Different symbols such as open and closed circles may occasionally be used to represent outliers\n",
    "\n"
   ]
  },
  {
   "cell_type": "markdown",
   "metadata": {},
   "source": [
    "Image created in MS Visio from one in Applied Statistics and Probability for Engineers\n",
    "\n",
    "![Box Plot](BoxPlot.PNG.PNG)\n"
   ]
  },
  {
   "cell_type": "markdown",
   "metadata": {},
   "source": [
    "Box plots were first described by Tukey *et al* in his book - [1]\n",
    "In 1978 in: [2] (*Variations of Box plots, Tukey et al, The American Statistician, vol32 (Feb 1978), 1, pp12-16* he describes box plots as a tool to enable exploratory data analysis). \n",
    "\n"
   ]
  },
  {
   "cell_type": "markdown",
   "metadata": {},
   "source": [
    "In their paper, 'Visual Presentation of Data by Means of Box Plots', [3] the authors discuss the use of boxplots as a useful means of interpreting *robust statistics*, i.e. those statistics which describe data with outilers better than those statistics based on the normal distribution. The authors explain how the use of the median as a descriptor and the interquartile range used in Box plots better describe the central tendency and dispersion of the data, respectively. They also explain how the whiskers are used to describe the range of the data.\n",
    "\n",
    "The authors use the example of a European Union funded study on wine which analyses up to 100 variables on wine composition over many samples. They discuss the initial univariate analysis (and visualisation) of the data using boxplots before the more complex PCA and multivariate techniques were employed.\n",
    "\n",
    "They describe how Boxplots enable rapid visualisation of\n",
    "* Outliers\n",
    "* Skewed distributions, i.e. non-normal data\n",
    "    Non normal data can be easily visualised using box plots and subsequently transformed in order to perform statistical analysis such as paired t-tests\n",
    "* Comparing series of results\n",
    "    Box plots can be used to easily compare sets of results side by side"
   ]
  },
  {
   "cell_type": "markdown",
   "metadata": {},
   "source": [
    "### VARIATIONS ON THE BOX PLOT\n",
    "\n"
   ]
  },
  {
   "cell_type": "markdown",
   "metadata": {},
   "source": [
    "In 'Violin Plots, a Box Plot-Density trace synergism, Hintze and Nelson adapt Tukeys box plot to combine the original box plot with the 'density trace', described by the authors as a smoothed histogram revealing more structure within the data than a conventional box plot alone\n",
    "\n",
    "**Violin Plot Comparison, Illustration** ![Violin Plot](ViolinPlots.PNG.PNG)\n",
    "\n",
    "This can be seen in the above illustration, Hintze and Nelson use the comparison of Bimodal, uniform and normal distributions to show the extra characteristic of population density in the violin plot thereby better illustrating the distribution of the data and potentailly highlighting any bumps or clusters in datasets."
   ]
  },
  {
   "cell_type": "markdown",
   "metadata": {},
   "source": [
    "### BOXPLOT EXAMPLE: IRISH EXCHEQUER TAX RECEIPTS 1984-2018\n",
    "\n",
    " [Source](http://databank.finance.gov.ie/)\n",
    " \n",
    " (http://databank.finance.gov.ie/FinDataBank.aspx?rep=OpenDataSourceCSV)\n",
    " \n"
   ]
  },
  {
   "cell_type": "code",
   "execution_count": 1,
   "metadata": {
    "scrolled": true
   },
   "outputs": [
    {
     "data": {
      "text/html": [
       "<div>\n",
       "<style scoped>\n",
       "    .dataframe tbody tr th:only-of-type {\n",
       "        vertical-align: middle;\n",
       "    }\n",
       "\n",
       "    .dataframe tbody tr th {\n",
       "        vertical-align: top;\n",
       "    }\n",
       "\n",
       "    .dataframe thead th {\n",
       "        text-align: right;\n",
       "    }\n",
       "</style>\n",
       "<table border=\"1\" class=\"dataframe\">\n",
       "  <thead>\n",
       "    <tr style=\"text-align: right;\">\n",
       "      <th></th>\n",
       "      <th>YEAR</th>\n",
       "      <th>MONTH</th>\n",
       "      <th>DESCR.</th>\n",
       "      <th>TYPE</th>\n",
       "      <th>TAX</th>\n",
       "    </tr>\n",
       "  </thead>\n",
       "  <tbody>\n",
       "    <tr>\n",
       "      <th>0</th>\n",
       "      <td>1984</td>\n",
       "      <td>January</td>\n",
       "      <td>Actual Outturn</td>\n",
       "      <td>Excise Duty</td>\n",
       "      <td>100210</td>\n",
       "    </tr>\n",
       "    <tr>\n",
       "      <th>1</th>\n",
       "      <td>1984</td>\n",
       "      <td>January</td>\n",
       "      <td>Actual Outturn</td>\n",
       "      <td>Capital Gains Tax</td>\n",
       "      <td>2220</td>\n",
       "    </tr>\n",
       "    <tr>\n",
       "      <th>2</th>\n",
       "      <td>1984</td>\n",
       "      <td>January</td>\n",
       "      <td>Actual Outturn</td>\n",
       "      <td>Stamps</td>\n",
       "      <td>9683</td>\n",
       "    </tr>\n",
       "    <tr>\n",
       "      <th>3</th>\n",
       "      <td>1984</td>\n",
       "      <td>January</td>\n",
       "      <td>Actual Outturn</td>\n",
       "      <td>Income Tax</td>\n",
       "      <td>203590</td>\n",
       "    </tr>\n",
       "    <tr>\n",
       "      <th>4</th>\n",
       "      <td>1984</td>\n",
       "      <td>January</td>\n",
       "      <td>Actual Outturn</td>\n",
       "      <td>Corporation Tax</td>\n",
       "      <td>13318</td>\n",
       "    </tr>\n",
       "    <tr>\n",
       "      <th>5</th>\n",
       "      <td>1984</td>\n",
       "      <td>January</td>\n",
       "      <td>Actual Outturn</td>\n",
       "      <td>Valued Added Tax</td>\n",
       "      <td>150982</td>\n",
       "    </tr>\n",
       "    <tr>\n",
       "      <th>6</th>\n",
       "      <td>1984</td>\n",
       "      <td>January</td>\n",
       "      <td>Actual Outturn</td>\n",
       "      <td>Training and Employment Levy</td>\n",
       "      <td>10542</td>\n",
       "    </tr>\n",
       "    <tr>\n",
       "      <th>7</th>\n",
       "      <td>1984</td>\n",
       "      <td>January</td>\n",
       "      <td>Actual Outturn</td>\n",
       "      <td>Motor Vehicle Duties</td>\n",
       "      <td>11136</td>\n",
       "    </tr>\n",
       "    <tr>\n",
       "      <th>8</th>\n",
       "      <td>1984</td>\n",
       "      <td>February</td>\n",
       "      <td>Actual Outturn</td>\n",
       "      <td>Customs</td>\n",
       "      <td>9523</td>\n",
       "    </tr>\n",
       "    <tr>\n",
       "      <th>9</th>\n",
       "      <td>1984</td>\n",
       "      <td>February</td>\n",
       "      <td>Actual Outturn</td>\n",
       "      <td>Excise Duty</td>\n",
       "      <td>113701</td>\n",
       "    </tr>\n",
       "    <tr>\n",
       "      <th>10</th>\n",
       "      <td>1984</td>\n",
       "      <td>February</td>\n",
       "      <td>Actual Outturn</td>\n",
       "      <td>Capital Gains Tax</td>\n",
       "      <td>2617</td>\n",
       "    </tr>\n",
       "    <tr>\n",
       "      <th>11</th>\n",
       "      <td>1984</td>\n",
       "      <td>February</td>\n",
       "      <td>Actual Outturn</td>\n",
       "      <td>Stamps</td>\n",
       "      <td>10955</td>\n",
       "    </tr>\n",
       "    <tr>\n",
       "      <th>12</th>\n",
       "      <td>1984</td>\n",
       "      <td>February</td>\n",
       "      <td>Actual Outturn</td>\n",
       "      <td>Income Tax</td>\n",
       "      <td>188239</td>\n",
       "    </tr>\n",
       "    <tr>\n",
       "      <th>13</th>\n",
       "      <td>1984</td>\n",
       "      <td>February</td>\n",
       "      <td>Actual Outturn</td>\n",
       "      <td>Corporation Tax</td>\n",
       "      <td>13387</td>\n",
       "    </tr>\n",
       "    <tr>\n",
       "      <th>14</th>\n",
       "      <td>1984</td>\n",
       "      <td>February</td>\n",
       "      <td>Actual Outturn</td>\n",
       "      <td>Valued Added Tax</td>\n",
       "      <td>143272</td>\n",
       "    </tr>\n",
       "    <tr>\n",
       "      <th>15</th>\n",
       "      <td>1984</td>\n",
       "      <td>February</td>\n",
       "      <td>Actual Outturn</td>\n",
       "      <td>Training and Employment Levy</td>\n",
       "      <td>7988</td>\n",
       "    </tr>\n",
       "    <tr>\n",
       "      <th>16</th>\n",
       "      <td>1984</td>\n",
       "      <td>February</td>\n",
       "      <td>Actual Outturn</td>\n",
       "      <td>Motor Vehicle Duties</td>\n",
       "      <td>16278</td>\n",
       "    </tr>\n",
       "    <tr>\n",
       "      <th>17</th>\n",
       "      <td>1984</td>\n",
       "      <td>March</td>\n",
       "      <td>Actual Outturn</td>\n",
       "      <td>Customs</td>\n",
       "      <td>9523</td>\n",
       "    </tr>\n",
       "    <tr>\n",
       "      <th>18</th>\n",
       "      <td>1984</td>\n",
       "      <td>March</td>\n",
       "      <td>Actual Outturn</td>\n",
       "      <td>Excise Duty</td>\n",
       "      <td>120959</td>\n",
       "    </tr>\n",
       "    <tr>\n",
       "      <th>19</th>\n",
       "      <td>1984</td>\n",
       "      <td>March</td>\n",
       "      <td>Actual Outturn</td>\n",
       "      <td>Capital Gains Tax</td>\n",
       "      <td>2746</td>\n",
       "    </tr>\n",
       "    <tr>\n",
       "      <th>20</th>\n",
       "      <td>1984</td>\n",
       "      <td>March</td>\n",
       "      <td>Actual Outturn</td>\n",
       "      <td>Stamps</td>\n",
       "      <td>8652</td>\n",
       "    </tr>\n",
       "    <tr>\n",
       "      <th>21</th>\n",
       "      <td>1984</td>\n",
       "      <td>March</td>\n",
       "      <td>Actual Outturn</td>\n",
       "      <td>Income Tax</td>\n",
       "      <td>250169</td>\n",
       "    </tr>\n",
       "    <tr>\n",
       "      <th>22</th>\n",
       "      <td>1984</td>\n",
       "      <td>March</td>\n",
       "      <td>Actual Outturn</td>\n",
       "      <td>Corporation Tax</td>\n",
       "      <td>10705</td>\n",
       "    </tr>\n",
       "    <tr>\n",
       "      <th>23</th>\n",
       "      <td>1984</td>\n",
       "      <td>March</td>\n",
       "      <td>Actual Outturn</td>\n",
       "      <td>Valued Added Tax</td>\n",
       "      <td>155572</td>\n",
       "    </tr>\n",
       "    <tr>\n",
       "      <th>24</th>\n",
       "      <td>1984</td>\n",
       "      <td>March</td>\n",
       "      <td>Actual Outturn</td>\n",
       "      <td>Training and Employment Levy</td>\n",
       "      <td>9109</td>\n",
       "    </tr>\n",
       "    <tr>\n",
       "      <th>25</th>\n",
       "      <td>1984</td>\n",
       "      <td>March</td>\n",
       "      <td>Actual Outturn</td>\n",
       "      <td>Motor Vehicle Duties</td>\n",
       "      <td>13722</td>\n",
       "    </tr>\n",
       "    <tr>\n",
       "      <th>26</th>\n",
       "      <td>1984</td>\n",
       "      <td>April</td>\n",
       "      <td>Actual Outturn</td>\n",
       "      <td>Customs</td>\n",
       "      <td>10793</td>\n",
       "    </tr>\n",
       "    <tr>\n",
       "      <th>27</th>\n",
       "      <td>1984</td>\n",
       "      <td>April</td>\n",
       "      <td>Actual Outturn</td>\n",
       "      <td>Excise Duty</td>\n",
       "      <td>108851</td>\n",
       "    </tr>\n",
       "    <tr>\n",
       "      <th>28</th>\n",
       "      <td>1984</td>\n",
       "      <td>April</td>\n",
       "      <td>Actual Outturn</td>\n",
       "      <td>Capital Gains Tax</td>\n",
       "      <td>2448</td>\n",
       "    </tr>\n",
       "    <tr>\n",
       "      <th>29</th>\n",
       "      <td>1984</td>\n",
       "      <td>April</td>\n",
       "      <td>Actual Outturn</td>\n",
       "      <td>Stamps</td>\n",
       "      <td>5942</td>\n",
       "    </tr>\n",
       "    <tr>\n",
       "      <th>...</th>\n",
       "      <td>...</td>\n",
       "      <td>...</td>\n",
       "      <td>...</td>\n",
       "      <td>...</td>\n",
       "      <td>...</td>\n",
       "    </tr>\n",
       "    <tr>\n",
       "      <th>5627</th>\n",
       "      <td>2018</td>\n",
       "      <td>October</td>\n",
       "      <td>Actual Outturn</td>\n",
       "      <td>Local Property Tax</td>\n",
       "      <td>0</td>\n",
       "    </tr>\n",
       "    <tr>\n",
       "      <th>5628</th>\n",
       "      <td>2018</td>\n",
       "      <td>October</td>\n",
       "      <td>Actual Outturn</td>\n",
       "      <td>Unallocated Tax Receipts</td>\n",
       "      <td>-17243</td>\n",
       "    </tr>\n",
       "    <tr>\n",
       "      <th>5629</th>\n",
       "      <td>2018</td>\n",
       "      <td>October</td>\n",
       "      <td>Actual Outturn</td>\n",
       "      <td>Motor Vehicle Duties</td>\n",
       "      <td>81028</td>\n",
       "    </tr>\n",
       "    <tr>\n",
       "      <th>5630</th>\n",
       "      <td>2018</td>\n",
       "      <td>October</td>\n",
       "      <td>Profile</td>\n",
       "      <td>Customs</td>\n",
       "      <td>33000</td>\n",
       "    </tr>\n",
       "    <tr>\n",
       "      <th>5631</th>\n",
       "      <td>2018</td>\n",
       "      <td>October</td>\n",
       "      <td>Profile</td>\n",
       "      <td>Excise Duty</td>\n",
       "      <td>562000</td>\n",
       "    </tr>\n",
       "    <tr>\n",
       "      <th>5632</th>\n",
       "      <td>2018</td>\n",
       "      <td>October</td>\n",
       "      <td>Profile</td>\n",
       "      <td>Capital Gains Tax</td>\n",
       "      <td>21000</td>\n",
       "    </tr>\n",
       "    <tr>\n",
       "      <th>5633</th>\n",
       "      <td>2018</td>\n",
       "      <td>October</td>\n",
       "      <td>Profile</td>\n",
       "      <td>Capital Acquisitions Tax</td>\n",
       "      <td>82000</td>\n",
       "    </tr>\n",
       "    <tr>\n",
       "      <th>5634</th>\n",
       "      <td>2018</td>\n",
       "      <td>October</td>\n",
       "      <td>Profile</td>\n",
       "      <td>Stamps</td>\n",
       "      <td>319000</td>\n",
       "    </tr>\n",
       "    <tr>\n",
       "      <th>5635</th>\n",
       "      <td>2018</td>\n",
       "      <td>October</td>\n",
       "      <td>Profile</td>\n",
       "      <td>Income Tax</td>\n",
       "      <td>1735000</td>\n",
       "    </tr>\n",
       "    <tr>\n",
       "      <th>5636</th>\n",
       "      <td>2018</td>\n",
       "      <td>October</td>\n",
       "      <td>Profile</td>\n",
       "      <td>Corporation Tax</td>\n",
       "      <td>806000</td>\n",
       "    </tr>\n",
       "    <tr>\n",
       "      <th>5637</th>\n",
       "      <td>2018</td>\n",
       "      <td>October</td>\n",
       "      <td>Profile</td>\n",
       "      <td>Valued Added Tax</td>\n",
       "      <td>290000</td>\n",
       "    </tr>\n",
       "    <tr>\n",
       "      <th>5638</th>\n",
       "      <td>2018</td>\n",
       "      <td>October</td>\n",
       "      <td>Profile</td>\n",
       "      <td>Motor Vehicle Duties</td>\n",
       "      <td>65000</td>\n",
       "    </tr>\n",
       "    <tr>\n",
       "      <th>5639</th>\n",
       "      <td>2018</td>\n",
       "      <td>November</td>\n",
       "      <td>Profile</td>\n",
       "      <td>Customs</td>\n",
       "      <td>32000</td>\n",
       "    </tr>\n",
       "    <tr>\n",
       "      <th>5640</th>\n",
       "      <td>2018</td>\n",
       "      <td>November</td>\n",
       "      <td>Profile</td>\n",
       "      <td>Excise Duty</td>\n",
       "      <td>536000</td>\n",
       "    </tr>\n",
       "    <tr>\n",
       "      <th>5641</th>\n",
       "      <td>2018</td>\n",
       "      <td>November</td>\n",
       "      <td>Profile</td>\n",
       "      <td>Capital Gains Tax</td>\n",
       "      <td>71000</td>\n",
       "    </tr>\n",
       "    <tr>\n",
       "      <th>5642</th>\n",
       "      <td>2018</td>\n",
       "      <td>November</td>\n",
       "      <td>Profile</td>\n",
       "      <td>Capital Acquisitions Tax</td>\n",
       "      <td>204000</td>\n",
       "    </tr>\n",
       "    <tr>\n",
       "      <th>5643</th>\n",
       "      <td>2018</td>\n",
       "      <td>November</td>\n",
       "      <td>Profile</td>\n",
       "      <td>Stamps</td>\n",
       "      <td>125000</td>\n",
       "    </tr>\n",
       "    <tr>\n",
       "      <th>5644</th>\n",
       "      <td>2018</td>\n",
       "      <td>November</td>\n",
       "      <td>Profile</td>\n",
       "      <td>Income Tax</td>\n",
       "      <td>3270000</td>\n",
       "    </tr>\n",
       "    <tr>\n",
       "      <th>5645</th>\n",
       "      <td>2018</td>\n",
       "      <td>November</td>\n",
       "      <td>Profile</td>\n",
       "      <td>Corporation Tax</td>\n",
       "      <td>2239000</td>\n",
       "    </tr>\n",
       "    <tr>\n",
       "      <th>5646</th>\n",
       "      <td>2018</td>\n",
       "      <td>November</td>\n",
       "      <td>Profile</td>\n",
       "      <td>Valued Added Tax</td>\n",
       "      <td>2086000</td>\n",
       "    </tr>\n",
       "    <tr>\n",
       "      <th>5647</th>\n",
       "      <td>2018</td>\n",
       "      <td>November</td>\n",
       "      <td>Profile</td>\n",
       "      <td>Motor Vehicle Duties</td>\n",
       "      <td>79000</td>\n",
       "    </tr>\n",
       "    <tr>\n",
       "      <th>5648</th>\n",
       "      <td>2018</td>\n",
       "      <td>December</td>\n",
       "      <td>Profile</td>\n",
       "      <td>Customs</td>\n",
       "      <td>29000</td>\n",
       "    </tr>\n",
       "    <tr>\n",
       "      <th>5649</th>\n",
       "      <td>2018</td>\n",
       "      <td>December</td>\n",
       "      <td>Profile</td>\n",
       "      <td>Excise Duty</td>\n",
       "      <td>504000</td>\n",
       "    </tr>\n",
       "    <tr>\n",
       "      <th>5650</th>\n",
       "      <td>2018</td>\n",
       "      <td>December</td>\n",
       "      <td>Profile</td>\n",
       "      <td>Capital Gains Tax</td>\n",
       "      <td>547000</td>\n",
       "    </tr>\n",
       "    <tr>\n",
       "      <th>5651</th>\n",
       "      <td>2018</td>\n",
       "      <td>December</td>\n",
       "      <td>Profile</td>\n",
       "      <td>Capital Acquisitions Tax</td>\n",
       "      <td>20000</td>\n",
       "    </tr>\n",
       "    <tr>\n",
       "      <th>5652</th>\n",
       "      <td>2018</td>\n",
       "      <td>December</td>\n",
       "      <td>Profile</td>\n",
       "      <td>Stamps</td>\n",
       "      <td>186000</td>\n",
       "    </tr>\n",
       "    <tr>\n",
       "      <th>5653</th>\n",
       "      <td>2018</td>\n",
       "      <td>December</td>\n",
       "      <td>Profile</td>\n",
       "      <td>Income Tax</td>\n",
       "      <td>1898000</td>\n",
       "    </tr>\n",
       "    <tr>\n",
       "      <th>5654</th>\n",
       "      <td>2018</td>\n",
       "      <td>December</td>\n",
       "      <td>Profile</td>\n",
       "      <td>Corporation Tax</td>\n",
       "      <td>607000</td>\n",
       "    </tr>\n",
       "    <tr>\n",
       "      <th>5655</th>\n",
       "      <td>2018</td>\n",
       "      <td>December</td>\n",
       "      <td>Profile</td>\n",
       "      <td>Valued Added Tax</td>\n",
       "      <td>104000</td>\n",
       "    </tr>\n",
       "    <tr>\n",
       "      <th>5656</th>\n",
       "      <td>2018</td>\n",
       "      <td>December</td>\n",
       "      <td>Profile</td>\n",
       "      <td>Motor Vehicle Duties</td>\n",
       "      <td>68000</td>\n",
       "    </tr>\n",
       "  </tbody>\n",
       "</table>\n",
       "<p>5657 rows × 5 columns</p>\n",
       "</div>"
      ],
      "text/plain": [
       "      YEAR       MONTH          DESCR.                          TYPE      TAX\n",
       "0     1984     January  Actual Outturn                   Excise Duty   100210\n",
       "1     1984     January  Actual Outturn             Capital Gains Tax     2220\n",
       "2     1984     January  Actual Outturn                        Stamps     9683\n",
       "3     1984     January  Actual Outturn                    Income Tax   203590\n",
       "4     1984     January  Actual Outturn               Corporation Tax    13318\n",
       "5     1984     January  Actual Outturn              Valued Added Tax   150982\n",
       "6     1984     January  Actual Outturn  Training and Employment Levy    10542\n",
       "7     1984     January  Actual Outturn          Motor Vehicle Duties    11136\n",
       "8     1984    February  Actual Outturn                       Customs     9523\n",
       "9     1984    February  Actual Outturn                   Excise Duty   113701\n",
       "10    1984    February  Actual Outturn             Capital Gains Tax     2617\n",
       "11    1984    February  Actual Outturn                        Stamps    10955\n",
       "12    1984    February  Actual Outturn                    Income Tax   188239\n",
       "13    1984    February  Actual Outturn               Corporation Tax    13387\n",
       "14    1984    February  Actual Outturn              Valued Added Tax   143272\n",
       "15    1984    February  Actual Outturn  Training and Employment Levy     7988\n",
       "16    1984    February  Actual Outturn          Motor Vehicle Duties    16278\n",
       "17    1984       March  Actual Outturn                       Customs     9523\n",
       "18    1984       March  Actual Outturn                   Excise Duty   120959\n",
       "19    1984       March  Actual Outturn             Capital Gains Tax     2746\n",
       "20    1984       March  Actual Outturn                        Stamps     8652\n",
       "21    1984       March  Actual Outturn                    Income Tax   250169\n",
       "22    1984       March  Actual Outturn               Corporation Tax    10705\n",
       "23    1984       March  Actual Outturn              Valued Added Tax   155572\n",
       "24    1984       March  Actual Outturn  Training and Employment Levy     9109\n",
       "25    1984       March  Actual Outturn          Motor Vehicle Duties    13722\n",
       "26    1984       April  Actual Outturn                       Customs    10793\n",
       "27    1984       April  Actual Outturn                   Excise Duty   108851\n",
       "28    1984       April  Actual Outturn             Capital Gains Tax     2448\n",
       "29    1984       April  Actual Outturn                        Stamps     5942\n",
       "...    ...         ...             ...                           ...      ...\n",
       "5627  2018     October  Actual Outturn            Local Property Tax        0\n",
       "5628  2018     October  Actual Outturn      Unallocated Tax Receipts   -17243\n",
       "5629  2018     October  Actual Outturn          Motor Vehicle Duties    81028\n",
       "5630  2018     October         Profile                       Customs    33000\n",
       "5631  2018     October         Profile                   Excise Duty   562000\n",
       "5632  2018     October         Profile             Capital Gains Tax    21000\n",
       "5633  2018     October         Profile      Capital Acquisitions Tax    82000\n",
       "5634  2018     October         Profile                        Stamps   319000\n",
       "5635  2018     October         Profile                    Income Tax  1735000\n",
       "5636  2018     October         Profile               Corporation Tax   806000\n",
       "5637  2018     October         Profile              Valued Added Tax   290000\n",
       "5638  2018     October         Profile          Motor Vehicle Duties    65000\n",
       "5639  2018    November         Profile                       Customs    32000\n",
       "5640  2018    November         Profile                   Excise Duty   536000\n",
       "5641  2018    November         Profile             Capital Gains Tax    71000\n",
       "5642  2018    November         Profile      Capital Acquisitions Tax   204000\n",
       "5643  2018    November         Profile                        Stamps   125000\n",
       "5644  2018    November         Profile                    Income Tax  3270000\n",
       "5645  2018    November         Profile               Corporation Tax  2239000\n",
       "5646  2018    November         Profile              Valued Added Tax  2086000\n",
       "5647  2018    November         Profile          Motor Vehicle Duties    79000\n",
       "5648  2018  December           Profile                       Customs    29000\n",
       "5649  2018  December           Profile                   Excise Duty   504000\n",
       "5650  2018  December           Profile             Capital Gains Tax   547000\n",
       "5651  2018  December           Profile      Capital Acquisitions Tax    20000\n",
       "5652  2018  December           Profile                        Stamps   186000\n",
       "5653  2018  December           Profile                    Income Tax  1898000\n",
       "5654  2018  December           Profile               Corporation Tax   607000\n",
       "5655  2018  December           Profile              Valued Added Tax   104000\n",
       "5656  2018  December           Profile          Motor Vehicle Duties    68000\n",
       "\n",
       "[5657 rows x 5 columns]"
      ]
     },
     "execution_count": 1,
     "metadata": {},
     "output_type": "execute_result"
    }
   ],
   "source": [
    "import numpy as np\n",
    "import pandas as pd \n",
    "import matplotlib.pyplot as plt\n",
    "import seaborn as sns\n",
    "import scipy as sc\n",
    "\n",
    "#Import csv file of Irish tax receipts (shorten dataset to 2008-2017)\n",
    "IrishTax = pd.read_csv('http://databank.finance.gov.ie/FinDataBank.aspx?rep=OpenDataSourceCSV')#Read in the Data\n",
    "IrishTaxpd = pd.DataFrame(IrishTax)#Create a dataframe\n",
    "\n",
    "#Define the column names\n",
    "Tax = IrishTaxpd.rename(index=str, columns={\"1984\": \"YEAR\", \"January\": \"MONTH\", \"Actual Outturn\": \"DESCR.\", \"Customs\":\"TYPE\", \"8888\":\"TAX\"})\n",
    "Tax\n"
   ]
  },
  {
   "cell_type": "code",
   "execution_count": 2,
   "metadata": {},
   "outputs": [
    {
     "data": {
      "text/plain": [
       "array([[1984, 'January', 'Actual Outturn', 'Excise Duty', 100210],\n",
       "       [1984, 'January', 'Actual Outturn', 'Capital Gains Tax', 2220],\n",
       "       [1984, 'January', 'Actual Outturn', 'Stamps', 9683],\n",
       "       ...,\n",
       "       [2018, 'December  ', 'Profile', 'Corporation Tax', 607000],\n",
       "       [2018, 'December  ', 'Profile', 'Valued Added Tax', 104000],\n",
       "       [2018, 'December  ', 'Profile', 'Motor Vehicle Duties', 68000]],\n",
       "      dtype=object)"
      ]
     },
     "execution_count": 2,
     "metadata": {},
     "output_type": "execute_result"
    }
   ],
   "source": [
    "#Created a Numpy Array as a side item\n",
    "IrishTaxNP = np.array(IrishTaxpd) #Create Numpy Array\n",
    "IrishTaxNP"
   ]
  },
  {
   "cell_type": "code",
   "execution_count": 3,
   "metadata": {
    "scrolled": true
   },
   "outputs": [
    {
     "data": {
      "text/plain": [
       "Text(0.5,1,'Irish Tax')"
      ]
     },
     "execution_count": 3,
     "metadata": {},
     "output_type": "execute_result"
    },
    {
     "data": {
      "image/png": "[encoded data removed]",
      "text/plain": [
       "<Figure size 432x288 with 1 Axes>"
      ]
     },
     "metadata": {
      "needs_background": "light"
     },
     "output_type": "display_data"
    }
   ],
   "source": [
    " #Standard Histogram of Irish Government Tax Take 1994-2018\n",
    "hist = Tax.hist(column = \"YEAR\", bins='auto', grid=True, rwidth=0.9, color='#008000')\n",
    "plt.grid(axis='YEAR')\n",
    "plt.xlabel('YEAR')\n",
    "plt.ylabel('Frequency')\n",
    "plt.title('Irish Tax')\n",
    "\n"
   ]
  },
  {
   "cell_type": "code",
   "execution_count": 4,
   "metadata": {},
   "outputs": [
    {
     "data": {
      "text/plain": [
       "count    5.657000e+03\n",
       "mean     2.729958e+05\n",
       "std      1.165162e+06\n",
       "min     -5.477752e+07\n",
       "25%      1.530000e+04\n",
       "50%      5.124800e+04\n",
       "75%      3.363750e+05\n",
       "max      2.564871e+07\n",
       "Name: TAX, dtype: float64"
      ]
     },
     "execution_count": 4,
     "metadata": {},
     "output_type": "execute_result"
    }
   ],
   "source": [
    "#Some descriptive statistics of the tax take column of the  dataframe\n",
    "#adapted from (https://www.shanelynn.ie/using-pandas-dataframe-creating-editing-viewing-data-in-python/)\n",
    "Tax['TAX'].describe()"
   ]
  },
  {
   "cell_type": "code",
   "execution_count": 5,
   "metadata": {},
   "outputs": [],
   "source": [
    "index = Tax.index\n",
    "columns = Tax.columns\n",
    "values = Tax.values"
   ]
  },
  {
   "cell_type": "code",
   "execution_count": 6,
   "metadata": {
    "scrolled": true
   },
   "outputs": [
    {
     "data": {
      "text/plain": [
       "Index(['0', '1', '2', '3', '4', '5', '6', '7', '8', '9',\n",
       "       ...\n",
       "       '5647', '5648', '5649', '5650', '5651', '5652', '5653', '5654', '5655',\n",
       "       '5656'],\n",
       "      dtype='object', length=5657)"
      ]
     },
     "execution_count": 6,
     "metadata": {},
     "output_type": "execute_result"
    }
   ],
   "source": [
    "index"
   ]
  },
  {
   "cell_type": "code",
   "execution_count": 7,
   "metadata": {},
   "outputs": [
    {
     "data": {
      "text/plain": [
       "Index(['YEAR', 'MONTH', 'DESCR.', 'TYPE', 'TAX'], dtype='object')"
      ]
     },
     "execution_count": 7,
     "metadata": {},
     "output_type": "execute_result"
    }
   ],
   "source": [
    "columns"
   ]
  },
  {
   "cell_type": "code",
   "execution_count": 8,
   "metadata": {},
   "outputs": [
    {
     "data": {
      "text/plain": [
       "array([[1984, 'January', 'Actual Outturn', 'Excise Duty', 100210],\n",
       "       [1984, 'January', 'Actual Outturn', 'Capital Gains Tax', 2220],\n",
       "       [1984, 'January', 'Actual Outturn', 'Stamps', 9683],\n",
       "       ...,\n",
       "       [2018, 'December  ', 'Profile', 'Corporation Tax', 607000],\n",
       "       [2018, 'December  ', 'Profile', 'Valued Added Tax', 104000],\n",
       "       [2018, 'December  ', 'Profile', 'Motor Vehicle Duties', 68000]],\n",
       "      dtype=object)"
      ]
     },
     "execution_count": 8,
     "metadata": {},
     "output_type": "execute_result"
    }
   ],
   "source": [
    "values"
   ]
  },
  {
   "cell_type": "code",
   "execution_count": 114,
   "metadata": {
    "scrolled": false
   },
   "outputs": [
    {
     "data": {
      "text/plain": [
       "array([[1984, 'January', 100210],\n",
       "       [1984, 'January', 2220],\n",
       "       [1984, 'January', 9683],\n",
       "       ...,\n",
       "       [2018, 'December  ', 607000],\n",
       "       [2018, 'December  ', 104000],\n",
       "       [2018, 'December  ', 68000]], dtype=object)"
      ]
     },
     "execution_count": 114,
     "metadata": {},
     "output_type": "execute_result"
    }
   ],
   "source": [
    "create numpy array of summaries of tax for all years\n",
    "\n",
    "Summary_Tax = Tax[['YEAR', 'MONTH', 'TAX']]\n",
    "\n",
    "Summary_Tax_NP =  np.array(Summary_Tax)\n",
    "\n",
    "Summary_Tax_NP"
   ]
  },
  {
   "cell_type": "code",
   "execution_count": null,
   "metadata": {},
   "outputs": [],
   "source": []
  },
  {
   "cell_type": "code",
   "execution_count": 80,
   "metadata": {
    "scrolled": true
   },
   "outputs": [
    {
     "data": {
      "image/png": "[encoded data removed]",
      "text/plain": [
       "<Figure size 453.875x360 with 6 Axes>"
      ]
     },
     "metadata": {
      "needs_background": "light"
     },
     "output_type": "display_data"
    }
   ],
   "source": [
    "#Create pairplot of all years\n",
    "sns.pairplot(Summary_Tax, hue = 'MONTH')\n",
    "import warnings\n",
    "warnings.simplefilter(action='ignore', category=FutureWarning)"
   ]
  },
  {
   "cell_type": "code",
   "execution_count": 191,
   "metadata": {},
   "outputs": [
    {
     "data": {
      "text/plain": [
       "array([1984, 1984, 1984, 1984, 1984, 1984, 1984, 1984, 1984, 1984, 1984,\n",
       "       1984, 1984, 1984, 1984, 1984, 1984, 1984, 1984, 1984, 1984, 1984,\n",
       "       1984, 1984, 1984, 1984, 1984, 1984, 1984, 1984, 1984, 1984, 1984,\n",
       "       1984, 1984, 1984, 1984, 1984, 1984, 1984, 1984, 1984, 1984, 1984,\n",
       "       1984, 1984, 1984, 1984, 1984, 1984, 1984, 1984, 1984, 1984, 1984,\n",
       "       1984, 1984, 1984, 1984, 1984, 1984, 1984, 1984, 1984, 1984, 1984,\n",
       "       1984, 1984, 1984, 1984, 1984, 1984, 1984, 1984, 1984, 1984, 1984,\n",
       "       1984, 1984, 1984, 1984, 1984, 1984, 1984, 1984, 1984, 1984, 1984,\n",
       "       1984, 1984, 1984, 1984, 1984, 1984, 1984, 1984], dtype=int64)"
      ]
     },
     "execution_count": 191,
     "metadata": {},
     "output_type": "execute_result"
    }
   ],
   "source": [
    "\n",
    "YEAR84 = Summary_Tax.iloc[0:96, 0:1]\n",
    "YEAR84NP = np.array(YEAR84)\n",
    "YEAR84NPF = YEAR84NP.flatten\n",
    "YEAR84NPF()"
   ]
  },
  {
   "cell_type": "code",
   "execution_count": 226,
   "metadata": {},
   "outputs": [
    {
     "data": {
      "text/plain": [
       "array([100210,   2220,   9683, 203590,  13318, 150982,  10542,  11136,\n",
       "         9523, 113701,   2617,  10955, 188239,  13387, 143272,   7988,\n",
       "        16278,   9523, 120959,   2746,   8652, 250169,  10705, 155572,\n",
       "         9109,  13722,  10793, 108851,   2448,   5942, 205460,  12701,\n",
       "        92486,   7691,  10935,  10793, 139832,   3501,  11024, 214197,\n",
       "        15285, 150408,  11858,  13595,   8403, 129016,   2955,   8366,\n",
       "       202172,   7362, 110024,  12172,  10468,   9777, 140284,   2834,\n",
       "         9042, 214770,  59097, 187655,   1590,  11161,  11428, 139500,\n",
       "         6267,  13613, 191398,  43626, 104885,  18664,  12347,   6707,\n",
       "       139450,   1389,  39521, 211960,  19074, 179430,   9671,   9725,\n",
       "        11428, 136311,   4128,   7728, 193393,  28470, 116316,    744,\n",
       "        10886,  11174, 125735,   3196,  10607, 245345,  33600, 213837],\n",
       "      dtype=int64)"
      ]
     },
     "execution_count": 226,
     "metadata": {},
     "output_type": "execute_result"
    }
   ],
   "source": [
    "TAXES84 = Summary_Tax.iloc[0:96, 2:3]\n",
    "TAXES84NP = np.array(TAXES84)\n",
    "TAXES84NPF = TAXES84NP.flatten\n",
    "TAXES84NPF()"
   ]
  },
  {
   "cell_type": "code",
   "execution_count": 231,
   "metadata": {},
   "outputs": [
    {
     "data": {
      "text/html": [
       "<div>\n",
       "<style scoped>\n",
       "    .dataframe tbody tr th:only-of-type {\n",
       "        vertical-align: middle;\n",
       "    }\n",
       "\n",
       "    .dataframe tbody tr th {\n",
       "        vertical-align: top;\n",
       "    }\n",
       "\n",
       "    .dataframe thead th {\n",
       "        text-align: right;\n",
       "    }\n",
       "</style>\n",
       "<table border=\"1\" class=\"dataframe\">\n",
       "  <thead>\n",
       "    <tr style=\"text-align: right;\">\n",
       "      <th></th>\n",
       "      <th>TAX</th>\n",
       "    </tr>\n",
       "  </thead>\n",
       "  <tbody>\n",
       "    <tr>\n",
       "      <th>count</th>\n",
       "      <td>96.000000</td>\n",
       "    </tr>\n",
       "    <tr>\n",
       "      <th>mean</th>\n",
       "      <td>63076.031250</td>\n",
       "    </tr>\n",
       "    <tr>\n",
       "      <th>std</th>\n",
       "      <td>76342.110778</td>\n",
       "    </tr>\n",
       "    <tr>\n",
       "      <th>min</th>\n",
       "      <td>744.000000</td>\n",
       "    </tr>\n",
       "    <tr>\n",
       "      <th>25%</th>\n",
       "      <td>9419.500000</td>\n",
       "    </tr>\n",
       "    <tr>\n",
       "      <th>50%</th>\n",
       "      <td>12524.000000</td>\n",
       "    </tr>\n",
       "    <tr>\n",
       "      <th>75%</th>\n",
       "      <td>126555.250000</td>\n",
       "    </tr>\n",
       "    <tr>\n",
       "      <th>max</th>\n",
       "      <td>250169.000000</td>\n",
       "    </tr>\n",
       "  </tbody>\n",
       "</table>\n",
       "</div>"
      ],
      "text/plain": [
       "                 TAX\n",
       "count      96.000000\n",
       "mean    63076.031250\n",
       "std     76342.110778\n",
       "min       744.000000\n",
       "25%      9419.500000\n",
       "50%     12524.000000\n",
       "75%    126555.250000\n",
       "max    250169.000000"
      ]
     },
     "execution_count": 231,
     "metadata": {},
     "output_type": "execute_result"
    }
   ],
   "source": [
    "# Summary Statistics for 1984 tax data  \n",
    "TAXES84.describe()"
   ]
  },
  {
   "cell_type": "code",
   "execution_count": 233,
   "metadata": {},
   "outputs": [
    {
     "data": {
      "text/plain": [
       "<matplotlib.axes._subplots.AxesSubplot at 0x1ea784c8dd8>"
      ]
     },
     "execution_count": 233,
     "metadata": {},
     "output_type": "execute_result"
    },
    {
     "data": {
      "image/png": "[encoded data removed]",
      "text/plain": [
       "<Figure size 432x288 with 1 Axes>"
      ]
     },
     "metadata": {
      "needs_background": "light"
     },
     "output_type": "display_data"
    }
   ],
   "source": [
    "#BOXPLOT OF 1984 TAX FIGURES\n",
    "\n",
    "TAXES84.boxplot(column=None, by=None, ax=None, fontsize=None, rot=0, grid=True, figsize=None, layout=None, return_type=None)"
   ]
  },
  {
   "cell_type": "markdown",
   "metadata": {},
   "source": [
    "### REFERENCES\n",
    "* [1] J. W. Tukey. Exploratory Data Analysis. Addison–Wesley, 1970\n",
    "* [2](*Variations of Box plots, Tukey et al, The American Statistician, vol32 (Feb 1978), 1, pp12-16* \n",
    "* [3](http://citeseerx.ist.psu.edu/viewdoc/download;jsessionid=FA64F0BF4F9B16036ECDDE4FC11CC2C9?doi=10.1.1.169.9952&rep=rep1&type=pdf) Visual Presentation of Data by Means of Box Plots\n",
    "* [4](https://quantixed.org/wp-content/uploads/2014/12/hintze_1998.pdf) Hintze, J.L.; Nelson, R.D.Violin Plots, a Box Plot-Density Trace Synergism, The American Statistician, VOL52, no.2, May 1998, Pages 181-184\n",
    "\n"
   ]
  }
 ],
 "metadata": {
  "kernelspec": {
   "display_name": "Python 3",
   "language": "python",
   "name": "python3"
  },
  "language_info": {
   "codemirror_mode": {
    "name": "ipython",
    "version": 3
   },
   "file_extension": ".py",
   "mimetype": "text/x-python",
   "name": "python",
   "nbconvert_exporter": "python",
   "pygments_lexer": "ipython3",
   "version": "3.6.6"
  }
 },
 "nbformat": 4,
 "nbformat_minor": 2
}
